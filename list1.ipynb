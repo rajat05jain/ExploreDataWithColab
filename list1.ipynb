{
  "nbformat": 4,
  "nbformat_minor": 0,
  "metadata": {
    "colab": {
      "name": "Welcome To Colaboratory",
      "version": "0.3.2",
      "provenance": [],
      "collapsed_sections": [],
      "include_colab_link": true
    },
    "kernelspec": {
      "display_name": "Python 3",
      "name": "python3"
    }
  },
  "cells": [
    {
      "cell_type": "markdown",
      "metadata": {
        "id": "view-in-github",
        "colab_type": "text"
      },
      "source": [
        "<a href=\"https://colab.research.google.com/github/rajat05jain/ExploreDataWithColab/blob/master/list1.ipynb\" target=\"_parent\"><img src=\"https://colab.research.google.com/assets/colab-badge.svg\" alt=\"Open In Colab\"/></a>"
      ]
    },
    {
      "metadata": {
        "colab_type": "text",
        "id": "5fCEDCU_qrC0"
      },
      "cell_type": "markdown",
      "source": [
        "<img height=\"45px\" src=\"https://colab.research.google.com/img/colab_favicon.ico\" align=\"left\" hspace=\"10px\" vspace=\"0px\">\n",
        "\n",
        "<h1>Welcome to Colaboratory!</h1>\n",
        "\n",
        "Colaboratory is a free Jupyter notebook environment that requires no setup and runs entirely in the cloud.\n",
        "\n",
        "With Colaboratory you can write and execute code, save and share your analyses, and access powerful computing resources, all for free from your browser."
      ]
    },
    {
      "metadata": {
        "id": "Hg8WXy0l978x",
        "colab_type": "code",
        "colab": {
          "base_uri": "https://localhost:8080/",
          "height": 272
        },
        "outputId": "6feeebb0-3320-4a57-e9aa-8e931b8e3157"
      },
      "cell_type": "code",
      "source": [
        "#!/usr/bin/python -tt\n",
        "# Copyright 2010 Google Inc.\n",
        "# Licensed under the Apache License, Version 2.0\n",
        "# http://www.apache.org/licenses/LICENSE-2.0\n",
        "\n",
        "# Google's Python Class\n",
        "# http://code.google.com/edu/languages/google-python-class/\n",
        "\n",
        "# Basic list exercises\n",
        "# Fill in the code for the functions below. main() is already set up\n",
        "# to call the functions with a few different inputs,\n",
        "# printing 'OK' when each function is correct.\n",
        "# The starter code for each function includes a 'return'\n",
        "# which is just a placeholder for your code.\n",
        "# It's ok if you do not complete all the functions, and there\n",
        "# are some additional functions to try in list2.py.\n",
        "\n",
        "# A. match_ends\n",
        "# Given a list of strings, return the count of the number of\n",
        "# strings where the string length is 2 or more and the first\n",
        "# and last chars of the string are the same.\n",
        "# Note: python does not have a ++ operator, but += works.\n",
        "def match_ends(words):\n",
        "  # +++your code here+++\n",
        "    word = [w for w in words if len(w)>=2]\n",
        "    word_s = [w for w in word if w[0]==w[-1]]\n",
        "    print(word_s)\n",
        "    return(len(word_s))\n",
        "\n",
        "\n",
        "# B. front_x\n",
        "# Given a list of strings, return a list with the strings\n",
        "# in sorted order, except group all the strings that begin with 'x' first.\n",
        "# e.g. ['mix', 'xyz', 'apple', 'xanadu', 'aardvark'] yields\n",
        "# ['xanadu', 'xyz', 'aardvark', 'apple', 'mix']\n",
        "# Hint: this can be done by making 2 lists and sorting each of them\n",
        "# before combining them.\n",
        "def front_x(words):\n",
        "  # +++your code here+++\n",
        "    words_l = words\n",
        "    word1 = [w for w in words_l if w[0]!='x']\n",
        "    word2 = [w for w in words_l if w[0]=='x']\n",
        "    word2.sort()\n",
        "    word1.sort()\n",
        "    word3 =  word2+ word1\n",
        "    return(word3)\n",
        "\n",
        "\n",
        "\n",
        "# C. sort_last\n",
        "# Given a list of non-empty tuples, return a list sorted in increasing\n",
        "# order by the last element in each tuple.\n",
        "# e.g. [(1, 7), (1, 3), (3, 4, 5), (2, 2)] yields\n",
        "# [(2, 2), (1, 3), (3, 4, 5), (1, 7)]\n",
        "# Hint: use a custom key= function to extract the last element form each tuple.\n",
        "def sort_last(tuples):\n",
        "  # +++your code here+++\n",
        "    return(sorted(tuples,key=MyFn))\n",
        "def MyFn(s):\n",
        "    return s[-1]\n",
        "\n",
        "# Simple provided test() function used in main() to print\n",
        "# what each function returns vs. what it's supposed to return.\n",
        "def test(got, expected):\n",
        "    if got == expected:\n",
        "        prefix = ' OK '\n",
        "    else:\n",
        "        prefix = '  X '\n",
        "    print( '%s got: %s expected: %s' % (prefix, repr(got), repr(expected)))\n",
        "\n",
        "\n",
        "# Calls the above functions with interesting inputs.\n",
        "def main():\n",
        "    print( 'match_ends')\n",
        "    test(match_ends(['aba', 'xyz', 'aa', 'x', 'bbb']), 3)\n",
        "    test(match_ends(['', 'x', 'xy', 'xyx', 'xx']), 2)\n",
        "    test(match_ends(['aaa', 'be', 'abc', 'hello']), 1)\n",
        "\n",
        "  \n",
        "    print( 'front_x')\n",
        "    test(front_x(['bbb', 'ccc', 'axx', 'xzz', 'xaa']),['xaa', 'xzz', 'axx', 'bbb', 'ccc'])\n",
        "    test(front_x(['ccc', 'bbb', 'aaa', 'xcc', 'xaa']),['xaa', 'xcc', 'aaa', 'bbb', 'ccc'])\n",
        "    test(front_x(['mix', 'xyz', 'apple', 'xanadu', 'aardvark']),['xanadu', 'xyz', 'aardvark', 'apple', 'mix'])\n",
        "\n",
        "       \n",
        "\n",
        "    print('sort_last')\n",
        "    test(sort_last([(1, 3), (3, 2), (2, 1)]), [(2, 1), (3, 2), (1, 3)])\n",
        "    test(sort_last([(2, 3), (1, 2), (3, 1)]),[(3, 1), (1, 2), (2, 3)])\n",
        "    test(sort_last([(1, 7), (1, 3), (3, 4, 5), (2, 2)]),[(2, 2), (1, 3), (3, 4, 5), (1, 7)])\n",
        "\n",
        "\n",
        "if __name__ == '__main__':\n",
        "    main()\n"
      ],
      "execution_count": 1,
      "outputs": [
        {
          "output_type": "stream",
          "text": [
            "match_ends\n",
            "['aba', 'aa', 'bbb']\n",
            " OK  got: 3 expected: 3\n",
            "['xyx', 'xx']\n",
            " OK  got: 2 expected: 2\n",
            "['aaa']\n",
            " OK  got: 1 expected: 1\n",
            "front_x\n",
            " OK  got: ['xaa', 'xzz', 'axx', 'bbb', 'ccc'] expected: ['xaa', 'xzz', 'axx', 'bbb', 'ccc']\n",
            " OK  got: ['xaa', 'xcc', 'aaa', 'bbb', 'ccc'] expected: ['xaa', 'xcc', 'aaa', 'bbb', 'ccc']\n",
            " OK  got: ['xanadu', 'xyz', 'aardvark', 'apple', 'mix'] expected: ['xanadu', 'xyz', 'aardvark', 'apple', 'mix']\n",
            "sort_last\n",
            " OK  got: [(2, 1), (3, 2), (1, 3)] expected: [(2, 1), (3, 2), (1, 3)]\n",
            " OK  got: [(3, 1), (1, 2), (2, 3)] expected: [(3, 1), (1, 2), (2, 3)]\n",
            " OK  got: [(2, 2), (1, 3), (3, 4, 5), (1, 7)] expected: [(2, 2), (1, 3), (3, 4, 5), (1, 7)]\n"
          ],
          "name": "stdout"
        }
      ]
    },
    {
      "metadata": {
        "cellView": "form",
        "colab_type": "code",
        "id": "xitplqMNk_Hc",
        "outputId": "ed4f60d2-878d-4056-c438-352dac39a112",
        "colab": {
          "height": 420
        }
      },
      "cell_type": "code",
      "source": [
        "#@title Introducing Colaboratory\n",
        "#@markdown This 3-minute video gives an overview of the key features of Colaboratory:\n",
        "from IPython.display import YouTubeVideo\n",
        "YouTubeVideo('inN8seMm7UI', width=600, height=400)"
      ],
      "execution_count": 0,
      "outputs": [
        {
          "output_type": "execute_result",
          "data": {
            "text/html": [
              "\n",
              "        <iframe\n",
              "            width=\"600\"\n",
              "            height=400\"\n",
              "            src=\"https://www.youtube.com/embed/inN8seMm7UI\"\n",
              "            frameborder=\"0\"\n",
              "            allowfullscreen\n",
              "        ></iframe>\n",
              "        "
            ],
            "text/plain": [
              "<IPython.lib.display.YouTubeVideo at 0x7f956e9dda50>"
            ]
          },
          "metadata": {
            "tags": []
          },
          "execution_count": 0
        }
      ]
    },
    {
      "metadata": {
        "colab_type": "text",
        "id": "GJBs_flRovLc"
      },
      "cell_type": "markdown",
      "source": [
        "## Getting Started\n",
        "\n",
        "The document you are reading is a  [Jupyter notebook](https://jupyter.org/), hosted in Colaboratory. It is not a static page, but an interactive environment that lets you write and execute code in Python and other languages.\n",
        "\n",
        "For example, here is a **code cell** with a short Python script that computes a value, stores it in a variable, and prints the result:"
      ]
    },
    {
      "metadata": {
        "colab_type": "code",
        "id": "gJr_9dXGpJ05",
        "outputId": "5626194c-e802-4293-942d-2908885c3c1f",
        "colab": {
          "height": 35
        }
      },
      "cell_type": "code",
      "source": [
        "seconds_in_a_day = 24 * 60 * 60\n",
        "seconds_in_a_day"
      ],
      "execution_count": 0,
      "outputs": [
        {
          "output_type": "execute_result",
          "data": {
            "text/plain": [
              "86400"
            ]
          },
          "metadata": {
            "tags": []
          },
          "execution_count": 0
        }
      ]
    },
    {
      "metadata": {
        "colab_type": "text",
        "id": "2fhs6GZ4qFMx"
      },
      "cell_type": "markdown",
      "source": [
        "To execute the code in the above cell, select it with a click and then either press the ▷ button to the left of the code, or use the keyboard shortcut \"⌘/Ctrl+Enter\".\n",
        "\n",
        "All cells modify the same global state, so variables that you define by executing a cell can be used in other cells:"
      ]
    },
    {
      "metadata": {
        "colab_type": "code",
        "id": "-gE-Ez1qtyIA",
        "outputId": "8d2e4259-4682-4e19-b683-7b9087f28820",
        "colab": {
          "height": 35
        }
      },
      "cell_type": "code",
      "source": [
        "seconds_in_a_week = 7 * seconds_in_a_day\n",
        "seconds_in_a_week"
      ],
      "execution_count": 0,
      "outputs": [
        {
          "output_type": "execute_result",
          "data": {
            "text/plain": [
              "604800"
            ]
          },
          "metadata": {
            "tags": []
          },
          "execution_count": 0
        }
      ]
    },
    {
      "metadata": {
        "colab_type": "text",
        "id": "lSrWNr3MuFUS"
      },
      "cell_type": "markdown",
      "source": [
        "For more information about working with Colaboratory notebooks, see [Overview of Colaboratory](/notebooks/basic_features_overview.ipynb).\n"
      ]
    },
    {
      "metadata": {
        "colab_type": "text",
        "id": "-Rh3-Vt9Nev9"
      },
      "cell_type": "markdown",
      "source": [
        "## More Resources\n",
        "\n",
        "Learn how to make the most of Python, Jupyter, Colaboratory, and related tools with these resources:\n",
        "\n",
        "### Working with Notebooks in Colaboratory\n",
        "- [Overview of Colaboratory](/notebooks/basic_features_overview.ipynb)\n",
        "- [Guide to Markdown](/notebooks/markdown_guide.ipynb)\n",
        "- [Importing libraries and installing dependencies](/notebooks/snippets/importing_libraries.ipynb)\n",
        "- [Saving and loading notebooks in GitHub](https://colab.research.google.com/github/googlecolab/colabtools/blob/master/notebooks/colab-github-demo.ipynb)\n",
        "- [Interactive forms](/notebooks/forms.ipynb)\n",
        "- [Interactive widgets](/notebooks/widgets.ipynb)\n",
        "\n",
        "### Working with Data\n",
        "- [Loading data: Drive, Sheets, and Google Cloud Storage](/notebooks/io.ipynb) \n",
        "- [Charts: visualizing data](/notebooks/charts.ipynb)\n",
        "- [Getting started with BigQuery](/notebooks/bigquery.ipynb)\n",
        "\n",
        "### Machine Learning Crash Course\n",
        "These are a few of the notebooks from Google's online Machine Learning course. See the [full course website](https://developers.google.com/machine-learning/crash-course/) for more.\n",
        "- [Intro to Pandas](/notebooks/mlcc/intro_to_pandas.ipynb)\n",
        "- [Tensorflow concepts](/notebooks/mlcc/tensorflow_programming_concepts.ipynb)\n",
        "- [First steps with TensorFlow](/notebooks/mlcc/first_steps_with_tensor_flow.ipynb)\n",
        "- [Intro to neural nets](/notebooks/mlcc/intro_to_neural_nets.ipynb)\n",
        "- [Intro to sparse data and embeddings](/notebooks/mlcc/intro_to_sparse_data_and_embeddings.ipynb)\n",
        "\n",
        "### Using Accelerated Hardware\n",
        "- [TensorFlow with GPUs](/notebooks/gpu.ipynb)\n",
        "- [TensorFlow with TPUs](/notebooks/tpu.ipynb)"
      ]
    },
    {
      "metadata": {
        "colab_type": "text",
        "id": "P-H6Lw1vyNNd"
      },
      "cell_type": "markdown",
      "source": [
        "## Machine Learning Examples: Seedbank\n",
        "\n",
        "To see end-to-end examples of the interactive machine learning analyses that Colaboratory makes possible, check out the [Seedbank](https://research.google.com/seedbank/) project.\n",
        "\n",
        "A few featured examples:\n",
        "\n",
        "- [Neural Style Transfer](https://research.google.com/seedbank/seed/neural_style_transfer_with_tfkeras): Use deep learning to transfer style between images.\n",
        "- [EZ NSynth](https://research.google.com/seedbank/seed/ez_nsynth): Synthesize audio with WaveNet auto-encoders.\n",
        "- [Fashion MNIST with Keras and TPUs](https://research.google.com/seedbank/seed/fashion_mnist_with_keras_and_tpus): Classify fashion-related images with deep learning.\n",
        "- [DeepDream](https://research.google.com/seedbank/seed/deepdream): Produce DeepDream images from your own photos.\n",
        "- [Convolutional VAE](https://research.google.com/seedbank/seed/convolutional_vae): Create a generative model of handwritten digits."
      ]
    }
  ]
}